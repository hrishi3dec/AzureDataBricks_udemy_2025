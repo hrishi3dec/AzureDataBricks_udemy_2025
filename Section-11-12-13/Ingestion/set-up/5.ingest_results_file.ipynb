{
 "cells": [
  {
   "cell_type": "code",
   "execution_count": 0,
   "metadata": {
    "application/vnd.databricks.v1+cell": {
     "cellMetadata": {
      "byteLimit": 2048000,
      "rowLimit": 10000
     },
     "inputWidgets": {},
     "nuid": "787c3ff7-8cea-4552-99b1-d01f17ade4ec",
     "showTitle": false,
     "tableResultSettingsMap": {},
     "title": ""
    }
   },
   "outputs": [],
   "source": [
    "from pyspark.sql.types import StructType,StructField,StringType,IntegerType,DoubleType,LongType,DateType"
   ]
  },
  {
   "cell_type": "code",
   "execution_count": 0,
   "metadata": {
    "application/vnd.databricks.v1+cell": {
     "cellMetadata": {
      "byteLimit": 2048000,
      "rowLimit": 10000
     },
     "inputWidgets": {},
     "nuid": "1f8bd82c-51d0-4e9a-a177-6ccfe60ea93e",
     "showTitle": false,
     "tableResultSettingsMap": {},
     "title": ""
    }
   },
   "outputs": [],
   "source": [
    "results_schama = StructType(fields=[StructField(\"resultId\", IntegerType(), True),\n",
    "                                    StructField(\"raceId\", IntegerType(), False),\n",
    "                                    StructField(\"driverId\", IntegerType(), False),\n",
    "                                    StructField(\"constructorId\", IntegerType(), False),\n",
    "                                    StructField(\"number\", IntegerType(), False),\n",
    "                                    StructField(\"grid\", IntegerType(), False),\n",
    "                                    StructField(\"position\", IntegerType(), False),\n",
    "                                    StructField(\"positionText\", StringType(), False),\n",
    "                                    StructField(\"positionOrder\", IntegerType(), False),\n",
    "                                    StructField(\"points\", DoubleType(), False),\n",
    "                                    StructField(\"laps\", IntegerType(), False),\n",
    "                                    StructField(\"time\", StringType(), False),\n",
    "                                    StructField(\"milliseconds\", IntegerType(), False),\n",
    "                                    StructField(\"fastestLap\", IntegerType(), False),\n",
    "                                    StructField(\"rank\", IntegerType(), False),\n",
    "                                    StructField(\"fastestLapTime\", StringType(), False),\n",
    "                                    StructField(\"fastestLapSpeed\", StringType(), False),\n",
    "                                    StructField(\"statusId\", IntegerType(), False)])"
   ]
  },
  {
   "cell_type": "code",
   "execution_count": 0,
   "metadata": {
    "application/vnd.databricks.v1+cell": {
     "cellMetadata": {
      "byteLimit": 2048000,
      "rowLimit": 10000
     },
     "inputWidgets": {},
     "nuid": "b9f2f97a-a4a5-4e97-a26d-6db040a1a5ac",
     "showTitle": false,
     "tableResultSettingsMap": {},
     "title": ""
    }
   },
   "outputs": [],
   "source": [
    "results_df = spark.read \\\n",
    "    .option(\"header\", \"true\") \\\n",
    "    .schema(results_schama) \\\n",
    "    .json(\"/mnt/dldatabrickscoursedev001/raw/results.json\")\n",
    "\n",
    "# results_df = spark.read \\\n",
    "#     .option(\"header\", \"true\") \\\n",
    "#     .option(\"inferSchema\", \"true\") \\\n",
    "#     .json(\"/mnt/dldatabrickscoursedev001/raw/results.json\")\n",
    "\n"
   ]
  },
  {
   "cell_type": "code",
   "execution_count": 0,
   "metadata": {
    "application/vnd.databricks.v1+cell": {
     "cellMetadata": {
      "byteLimit": 2048000,
      "rowLimit": 10000
     },
     "inputWidgets": {},
     "nuid": "57968af9-eaea-4ad9-af52-255f2019e926",
     "showTitle": false,
     "tableResultSettingsMap": {},
     "title": ""
    }
   },
   "outputs": [],
   "source": [
    "from pyspark.sql.functions import col, current_timestamp"
   ]
  },
  {
   "cell_type": "code",
   "execution_count": 0,
   "metadata": {
    "application/vnd.databricks.v1+cell": {
     "cellMetadata": {
      "byteLimit": 2048000,
      "rowLimit": 10000
     },
     "inputWidgets": {},
     "nuid": "00988edd-f353-4306-adce-7c719e8af00a",
     "showTitle": false,
     "tableResultSettingsMap": {},
     "title": ""
    }
   },
   "outputs": [],
   "source": [
    "results_columnAlteration_df = results_df.withColumnRenamed(\"resultId\", \"result_id\") \\\n",
    "                                        .withColumnRenamed(\"raceId\", \"race_id\") \\\n",
    "                                        .withColumnRenamed(\"driverId\", \"driver_id\") \\\n",
    "                                        .withColumnRenamed(\"constructorId\", \"constructor_id\") \\\n",
    "                                        .withColumnRenamed(\"positionText\", \"position_text\") \\\n",
    "                                        .withColumnRenamed(\"positionOrder\", \"position_order\") \\\n",
    "                                        .withColumnRenamed(\"fastestLap\", \"fastest_lap\") \\\n",
    "                                        .withColumnRenamed(\"fastestLapTime\", \"fastest_lap_time\") \\\n",
    "                                        .withColumnRenamed(\"fastestLapSpeed\", \"fastest_lap_speed\") \\\n",
    "                                        .withColumn(\"ingestionDate\",current_timestamp()) \\\n",
    "                                        .drop(\"statusid\")"
   ]
  },
  {
   "cell_type": "code",
   "execution_count": 0,
   "metadata": {
    "application/vnd.databricks.v1+cell": {
     "cellMetadata": {
      "byteLimit": 2048000,
      "rowLimit": 10000
     },
     "inputWidgets": {},
     "nuid": "d62dc92f-131b-439a-8344-6e14a9513aad",
     "showTitle": false,
     "tableResultSettingsMap": {},
     "title": ""
    }
   },
   "outputs": [],
   "source": [
    "results_columnAlteration_df.write \\\n",
    "    .mode(\"overwrite\")  \\\n",
    "    .partitionBy(\"race_id\") \\\n",
    "    .parquet(\"/mnt/dldatabrickscoursedev001/processed/results\")"
   ]
  },
  {
   "cell_type": "code",
   "execution_count": 0,
   "metadata": {
    "application/vnd.databricks.v1+cell": {
     "cellMetadata": {
      "byteLimit": 2048000,
      "rowLimit": 10000
     },
     "inputWidgets": {},
     "nuid": "7696e05d-743c-408a-93ae-0cf9d0cc1190",
     "showTitle": false,
     "tableResultSettingsMap": {},
     "title": ""
    }
   },
   "outputs": [],
   "source": [
    "spark.read.parquet(\"/mnt/dldatabrickscoursedev001/processed/results/race_id=2/\").display()"
   ]
  }
 ],
 "metadata": {
  "application/vnd.databricks.v1+notebook": {
   "computePreferences": null,
   "dashboards": [],
   "environmentMetadata": {
    "base_environment": "",
    "environment_version": "2"
   },
   "language": "python",
   "notebookMetadata": {
    "mostRecentlyExecutedCommandWithImplicitDF": {
     "commandId": 1659492280406367,
     "dataframes": [
      "_sqldf"
     ]
    },
    "pythonIndentUnit": 4
   },
   "notebookName": "5.ingest_results_file",
   "widgets": {}
  },
  "language_info": {
   "name": "python"
  }
 },
 "nbformat": 4,
 "nbformat_minor": 0
}
